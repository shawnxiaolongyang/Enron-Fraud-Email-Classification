{
 "cells": [
  {
   "cell_type": "code",
   "execution_count": 1,
   "metadata": {
    "collapsed": true
   },
   "outputs": [],
   "source": [
    "import sys"
   ]
  },
  {
   "cell_type": "code",
   "execution_count": 2,
   "metadata": {
    "collapsed": true
   },
   "outputs": [],
   "source": [
    "from time import time"
   ]
  },
  {
   "cell_type": "code",
   "execution_count": 3,
   "metadata": {
    "collapsed": true
   },
   "outputs": [],
   "source": [
    "sys.path.append(\"../tools/\")"
   ]
  },
  {
   "cell_type": "code",
   "execution_count": 4,
   "metadata": {
    "collapsed": true
   },
   "outputs": [],
   "source": [
    "from email_preprocess import preprocess"
   ]
  },
  {
   "cell_type": "code",
   "execution_count": 5,
   "metadata": {
    "collapsed": true
   },
   "outputs": [],
   "source": [
    "### features_train and features_test are the features for the training\n",
    "### and testing datasets, respectively\n",
    "### labels_train and labels_test are the corresponding item labels"
   ]
  },
  {
   "cell_type": "code",
   "execution_count": 19,
   "metadata": {
    "collapsed": false
   },
   "outputs": [
    {
     "name": "stdout",
     "output_type": "stream",
     "text": [
      "no. of Chris training emails: 7936\n",
      "no. of Sara training emails: 7884\n"
     ]
    }
   ],
   "source": [
    "feature_train, feature_test, label_train, label_test = preprocess()"
   ]
  },
  {
   "cell_type": "code",
   "execution_count": 7,
   "metadata": {
    "collapsed": true
   },
   "outputs": [],
   "source": [
    "from sklearn.svm import SVC\n",
    "from sklearn.metrics import accuracy_score"
   ]
  },
  {
   "cell_type": "code",
   "execution_count": 9,
   "metadata": {
    "collapsed": false
   },
   "outputs": [
    {
     "name": "stdout",
     "output_type": "stream",
     "text": [
      "starting time: 0.007 s\n",
      "training time: 197.899 s\n",
      "0.984072810011\n",
      "predicting time: 218.411 s\n"
     ]
    }
   ],
   "source": [
    "t0 = time()\n",
    "clf = SVC(kernel = \"linear\")\n",
    "print \"starting time:\", round(time()-t0, 3), \"s\"\n",
    "clf.fit(feature_train, label_train)\n",
    "print \"training time:\", round(time()-t0, 3), \"s\"\n",
    "prediction = clf.predict(feature_test)\n",
    "accuracy = accuracy_score(prediction, label_test)\n",
    "print accuracy\n",
    "print \"predicting time:\", round(time()-t0, 3), \"s\""
   ]
  },
  {
   "cell_type": "markdown",
   "metadata": {},
   "source": [
    "### What is the accuracy of the classifier?"
   ]
  },
  {
   "cell_type": "markdown",
   "metadata": {
    "collapsed": true
   },
   "source": [
    "0.98407281001"
   ]
  },
  {
   "cell_type": "markdown",
   "metadata": {},
   "source": [
    "### What is the time for classify"
   ]
  },
  {
   "cell_type": "markdown",
   "metadata": {},
   "source": [
    "    197.899 s     218.411 s"
   ]
  },
  {
   "cell_type": "markdown",
   "metadata": {},
   "source": [
    "##  Train with less data"
   ]
  },
  {
   "cell_type": "code",
   "execution_count": 20,
   "metadata": {
    "collapsed": false
   },
   "outputs": [
    {
     "name": "stdout",
     "output_type": "stream",
     "text": [
      "starting time: 0.001 s\n",
      "training time: 0.124 s\n",
      "0.884527872582\n",
      "predicting time: 1.419 s\n"
     ]
    }
   ],
   "source": [
    "feature_train1 = feature_train[:len(feature_train)/100] \n",
    "label_train1 = label_train[:len(label_train)/100] \n",
    "t0 = time()\n",
    "clf = SVC(kernel = \"linear\")\n",
    "print \"starting time:\", round(time()-t0, 3), \"s\"\n",
    "clf.fit(feature_train1, label_train1)\n",
    "print \"training time:\", round(time()-t0, 3), \"s\"\n",
    "prediction = clf.predict(feature_test)\n",
    "accuracy = accuracy_score(prediction, label_test)\n",
    "print accuracy\n",
    "print \"predicting time:\", round(time()-t0, 3), \"s\""
   ]
  },
  {
   "cell_type": "markdown",
   "metadata": {},
   "source": [
    "## train with less data but more complex model"
   ]
  },
  {
   "cell_type": "code",
   "execution_count": 21,
   "metadata": {
    "collapsed": false
   },
   "outputs": [
    {
     "name": "stdout",
     "output_type": "stream",
     "text": [
      "starting time: 0.0 s\n",
      "training time: 0.138 s\n",
      "0.616040955631\n",
      "predicting time: 1.592 s\n"
     ]
    }
   ],
   "source": [
    "feature_train2 = feature_train[:len(feature_train)/100] \n",
    "label_train2 = label_train[:len(label_train)/100] \n",
    "t0 = time()\n",
    "## model complex due to the new kernel rbf - radial basis functions\n",
    "clf = SVC(kernel = \"rbf\")\n",
    "print \"starting time:\", round(time()-t0, 3), \"s\"\n",
    "clf.fit(feature_train2, label_train2)\n",
    "print \"training time:\", round(time()-t0, 3), \"s\"\n",
    "prediction = clf.predict(feature_test)\n",
    "accuracy = accuracy_score(prediction, label_test)\n",
    "print accuracy\n",
    "print \"predicting time:\", round(time()-t0, 3), \"s\""
   ]
  },
  {
   "cell_type": "markdown",
   "metadata": {},
   "source": [
    "## train with less data but more complex model but different C values (10.0, 100., 1000., and 10000)"
   ]
  },
  {
   "cell_type": "code",
   "execution_count": 29,
   "metadata": {
    "collapsed": false
   },
   "outputs": [
    {
     "name": "stdout",
     "output_type": "stream",
     "text": [
      "when C = 10\n",
      "0.616040955631\n",
      "when C = 100\n",
      "0.616040955631\n",
      "when C = 1000\n",
      "0.821387940842\n",
      "when C = 10000\n",
      "0.892491467577\n"
     ]
    }
   ],
   "source": [
    "feature_train3 = feature_train[:len(feature_train)/100] \n",
    "label_train3 = label_train[:len(label_train)/100] \n",
    "\n",
    "## model complex due to the new kernel rbf - radial basis functions\n",
    "clf1 = SVC(kernel = \"rbf\",C = 10)\n",
    "clf1.fit(feature_train3, label_train3)\n",
    "prediction = clf1.predict(feature_test)\n",
    "accuracy = accuracy_score(prediction, label_test)\n",
    "print \"when C = 10\"\n",
    "print accuracy\n",
    "\n",
    "clf2 = SVC(kernel = \"rbf\",C = 100)\n",
    "clf2.fit(feature_train3, label_train3)\n",
    "prediction = clf2.predict(feature_test)\n",
    "accuracy = accuracy_score(prediction, label_test)\n",
    "print \"when C = 100\"\n",
    "print accuracy\n",
    "\n",
    "clf3 = SVC(kernel = \"rbf\",C = 1000)\n",
    "clf3.fit(feature_train3, label_train3)\n",
    "prediction = clf3.predict(feature_test)\n",
    "accuracy = accuracy_score(prediction, label_test)\n",
    "print \"when C = 1000\"\n",
    "print accuracy\n",
    "\n",
    "clf4 = SVC(kernel = \"rbf\",C = 10000)\n",
    "clf4.fit(feature_train3, label_train3)\n",
    "prediction = clf4.predict(feature_test)\n",
    "accuracy = accuracy_score(prediction, label_test)\n",
    "print \"when C = 10000\"\n",
    "print accuracy\n"
   ]
  },
  {
   "cell_type": "markdown",
   "metadata": {},
   "source": [
    "## Optimize model accuracy"
   ]
  },
  {
   "cell_type": "code",
   "execution_count": 30,
   "metadata": {
    "collapsed": false
   },
   "outputs": [
    {
     "name": "stdout",
     "output_type": "stream",
     "text": [
      "when C = 10000, use the whole data\n",
      "0.990898748578\n"
     ]
    }
   ],
   "source": [
    "clf = SVC(kernel = \"rbf\",C = 10000)\n",
    "clf.fit(feature_train, label_train)\n",
    "prediction = clf.predict(feature_test)\n",
    "accuracy = accuracy_score(prediction, label_test)\n",
    "print \"when C = 10000, use the whole data\"\n",
    "print accuracy"
   ]
  },
  {
   "cell_type": "markdown",
   "metadata": {},
   "source": [
    "## Use 1% of data, C equal to 10000, \n",
    "## print the result of 10, 26, 50th in test\n",
    "## (0/1corresponding to Sara / Chris respectively)"
   ]
  },
  {
   "cell_type": "code",
   "execution_count": 31,
   "metadata": {
    "collapsed": false
   },
   "outputs": [
    {
     "name": "stdout",
     "output_type": "stream",
     "text": [
      "[1] [0] [1]\n"
     ]
    },
    {
     "name": "stderr",
     "output_type": "stream",
     "text": [
      "C:\\Users\\xyang\\Anaconda2\\lib\\site-packages\\sklearn\\utils\\validation.py:386: DeprecationWarning: Passing 1d arrays as data is deprecated in 0.17 and willraise ValueError in 0.19. Reshape your data either using X.reshape(-1, 1) if your data has a single feature or X.reshape(1, -1) if it contains a single sample.\n",
      "  DeprecationWarning)\n",
      "C:\\Users\\xyang\\Anaconda2\\lib\\site-packages\\sklearn\\utils\\validation.py:386: DeprecationWarning: Passing 1d arrays as data is deprecated in 0.17 and willraise ValueError in 0.19. Reshape your data either using X.reshape(-1, 1) if your data has a single feature or X.reshape(1, -1) if it contains a single sample.\n",
      "  DeprecationWarning)\n",
      "C:\\Users\\xyang\\Anaconda2\\lib\\site-packages\\sklearn\\utils\\validation.py:386: DeprecationWarning: Passing 1d arrays as data is deprecated in 0.17 and willraise ValueError in 0.19. Reshape your data either using X.reshape(-1, 1) if your data has a single feature or X.reshape(1, -1) if it contains a single sample.\n",
      "  DeprecationWarning)\n"
     ]
    }
   ],
   "source": [
    "feature_train4 = feature_train[:len(feature_train)/100] \n",
    "label_train4 = label_train[:len(label_train)/100]\n",
    "clf4 = SVC(kernel = \"rbf\",C = 10000)\n",
    "clf4.fit(feature_train3, label_train3)\n",
    "pred_10 = clf4.predict(feature_test[10])\n",
    "pred_26 = clf4.predict(feature_test[26])\n",
    "pred_50 = clf4.predict(feature_test[50])\n",
    "print pred_10, pred_26, pred_50"
   ]
  },
  {
   "cell_type": "markdown",
   "metadata": {},
   "source": [
    "## There are over 1700 test events--how many are predicted to be in the “Chris” (1) class? (Use the RBF kernel, C=10000., and the full training set.)"
   ]
  },
  {
   "cell_type": "code",
   "execution_count": 32,
   "metadata": {
    "collapsed": true
   },
   "outputs": [],
   "source": [
    "clf = SVC(kernel = \"rbf\",C = 10000)\n",
    "clf.fit(feature_train, label_train)\n",
    "prediction = clf.predict(feature_test)    "
   ]
  },
  {
   "cell_type": "code",
   "execution_count": 40,
   "metadata": {
    "collapsed": false
   },
   "outputs": [],
   "source": [
    "num = 0\n",
    "for i in range(len(prediction)):\n",
    "    if prediction[i] == 1:\n",
    "        num += 1"
   ]
  },
  {
   "cell_type": "code",
   "execution_count": 41,
   "metadata": {
    "collapsed": false
   },
   "outputs": [
    {
     "name": "stdout",
     "output_type": "stream",
     "text": [
      "877\n"
     ]
    }
   ],
   "source": [
    "print num\n"
   ]
  },
  {
   "cell_type": "code",
   "execution_count": null,
   "metadata": {
    "collapsed": true
   },
   "outputs": [],
   "source": []
  }
 ],
 "metadata": {
  "kernelspec": {
   "display_name": "Python 2",
   "language": "python",
   "name": "python2"
  },
  "language_info": {
   "codemirror_mode": {
    "name": "ipython",
    "version": 2
   },
   "file_extension": ".py",
   "mimetype": "text/x-python",
   "name": "python",
   "nbconvert_exporter": "python",
   "pygments_lexer": "ipython2",
   "version": "2.7.11"
  }
 },
 "nbformat": 4,
 "nbformat_minor": 0
}
