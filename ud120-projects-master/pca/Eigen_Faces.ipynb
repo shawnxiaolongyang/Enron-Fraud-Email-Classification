{
 "cells": [
  {
   "cell_type": "markdown",
   "metadata": {},
   "source": [
    "\"\"\"\n",
    "Faces recognition example using eigenfaces and SVMs\n",
    "\n",
    "The dataset used in this example is a preprocessed excerpt of the\n",
    "\"Labeled Faces in the Wild\", aka LFW_:\n",
    "\n",
    "  http://vis-www.cs.umass.edu/lfw/lfw-funneled.tgz (233MB)\n",
    "\n",
    "  .. _LFW: http://vis-www.cs.umass.edu/lfw/\n",
    "\n",
    "  original source: http://scikit-learn.org/stable/auto_examples/applications/face_recognition.html\n",
    "\n",
    "\"\"\""
   ]
  },
  {
   "cell_type": "code",
   "execution_count": 1,
   "metadata": {
    "collapsed": false
   },
   "outputs": [
    {
     "name": "stdout",
     "output_type": "stream",
     "text": [
      "Automatically created module for IPython interactive environment\n"
     ]
    }
   ],
   "source": [
    "print __doc__"
   ]
  },
  {
   "cell_type": "code",
   "execution_count": 2,
   "metadata": {
    "collapsed": true
   },
   "outputs": [],
   "source": [
    "from time import time\n",
    "import logging\n",
    "import pylab as pl\n",
    "import numpy as np"
   ]
  },
  {
   "cell_type": "code",
   "execution_count": 3,
   "metadata": {
    "collapsed": true
   },
   "outputs": [],
   "source": [
    "from sklearn.cross_validation import train_test_split\n",
    "from sklearn.datasets import fetch_lfw_people\n",
    "from sklearn.grid_search import GridSearchCV\n",
    "from sklearn.metrics import classification_report\n",
    "from sklearn.metrics import confusion_matrix\n",
    "from sklearn.decomposition import RandomizedPCA\n",
    "from sklearn.svm import SVC"
   ]
  },
  {
   "cell_type": "markdown",
   "metadata": {},
   "source": [
    "# Display progress logs on stdout"
   ]
  },
  {
   "cell_type": "code",
   "execution_count": 4,
   "metadata": {
    "collapsed": true
   },
   "outputs": [],
   "source": [
    "logging.basicConfig(level=logging.INFO, format='%(asctime)s %(message)s')"
   ]
  },
  {
   "cell_type": "markdown",
   "metadata": {},
   "source": [
    "# Download the data, if not already on disk and load it as numpy arrays"
   ]
  },
  {
   "cell_type": "code",
   "execution_count": 6,
   "metadata": {
    "collapsed": false,
    "scrolled": true
   },
   "outputs": [
    {
     "name": "stderr",
     "output_type": "stream",
     "text": [
      "WARNING:sklearn.datasets.lfw:Downloading LFW metadata: http://vis-www.cs.umass.edu/lfw/pairsDevTrain.txt\n",
      "WARNING:sklearn.datasets.lfw:Downloading LFW metadata: http://vis-www.cs.umass.edu/lfw/pairsDevTest.txt\n",
      "WARNING:sklearn.datasets.lfw:Downloading LFW metadata: http://vis-www.cs.umass.edu/lfw/pairs.txt\n",
      "WARNING:sklearn.datasets.lfw:Downloading LFW data (~200MB): http://vis-www.cs.umass.edu/lfw/lfw-funneled.tgz\n"
     ]
    }
   ],
   "source": [
    "lfw_people = fetch_lfw_people(min_faces_per_person=70, resize=0.4)"
   ]
  },
  {
   "cell_type": "code",
   "execution_count": 7,
   "metadata": {
    "collapsed": true
   },
   "outputs": [],
   "source": [
    "n_samples, h, w = lfw_people.images.shape\n",
    "np.random.seed(42)"
   ]
  },
  {
   "cell_type": "markdown",
   "metadata": {},
   "source": [
    "# for machine learning we use the data directly (as relative pixel position info is ignored by this model)"
   ]
  },
  {
   "cell_type": "code",
   "execution_count": 10,
   "metadata": {
    "collapsed": true
   },
   "outputs": [],
   "source": [
    "X = lfw_people.data\n",
    "n_features = X.shape[1]"
   ]
  },
  {
   "cell_type": "markdown",
   "metadata": {},
   "source": [
    "# the label to predict is the id of the person"
   ]
  },
  {
   "cell_type": "code",
   "execution_count": 11,
   "metadata": {
    "collapsed": true
   },
   "outputs": [],
   "source": [
    "y = lfw_people.target\n",
    "target_names = lfw_people.target_names\n",
    "n_classes = target_names.shape[0]"
   ]
  },
  {
   "cell_type": "code",
   "execution_count": 12,
   "metadata": {
    "collapsed": false
   },
   "outputs": [
    {
     "name": "stdout",
     "output_type": "stream",
     "text": [
      "Total dataset size:\n",
      "n_samples: 1288\n",
      "n_features: 1850\n",
      "n_classes: 7\n"
     ]
    }
   ],
   "source": [
    "print \"Total dataset size:\"\n",
    "print \"n_samples: %d\" % n_samples\n",
    "print \"n_features: %d\" % n_features\n",
    "print \"n_classes: %d\" % n_classes"
   ]
  },
  {
   "cell_type": "markdown",
   "metadata": {},
   "source": [
    "# Split into a training and testing set"
   ]
  },
  {
   "cell_type": "code",
   "execution_count": 13,
   "metadata": {
    "collapsed": true
   },
   "outputs": [],
   "source": [
    "X_train, X_test, y_train, y_test = train_test_split(X, y, test_size=0.25, random_state=42)"
   ]
  },
  {
   "cell_type": "markdown",
   "metadata": {},
   "source": [
    "# Compute a PCA (eigenfaces) on the face dataset (treated as unlabeled dataset): unsupervised feature extraction / dimensionality reduction"
   ]
  },
  {
   "cell_type": "code",
   "execution_count": 14,
   "metadata": {
    "collapsed": true
   },
   "outputs": [],
   "source": [
    "n_components = 150"
   ]
  },
  {
   "cell_type": "code",
   "execution_count": 15,
   "metadata": {
    "collapsed": false
   },
   "outputs": [
    {
     "name": "stdout",
     "output_type": "stream",
     "text": [
      "Extracting the top 150 eigenfaces from 966 faces\n"
     ]
    }
   ],
   "source": [
    "print \"Extracting the top %d eigenfaces from %d faces\" % (n_components, X_train.shape[0])"
   ]
  },
  {
   "cell_type": "code",
   "execution_count": 17,
   "metadata": {
    "collapsed": false
   },
   "outputs": [
    {
     "name": "stdout",
     "output_type": "stream",
     "text": [
      "done in 0.308s\n"
     ]
    }
   ],
   "source": [
    "t0 = time()\n",
    "pca = RandomizedPCA(n_components=n_components, whiten=True).fit(X_train)\n",
    "print \"done in %0.3fs\" % (time() - t0)"
   ]
  },
  {
   "cell_type": "code",
   "execution_count": 18,
   "metadata": {
    "collapsed": true
   },
   "outputs": [],
   "source": [
    "eigenfaces = pca.components_.reshape((n_components, h, w))"
   ]
  },
  {
   "cell_type": "code",
   "execution_count": 19,
   "metadata": {
    "collapsed": false
   },
   "outputs": [
    {
     "name": "stdout",
     "output_type": "stream",
     "text": [
      "Projecting the input data on the eigenfaces orthonormal basis\n",
      "done in 0.039s\n"
     ]
    }
   ],
   "source": [
    "print \"Projecting the input data on the eigenfaces orthonormal basis\"\n",
    "t0 = time()\n",
    "X_train_pca = pca.transform(X_train)\n",
    "X_test_pca = pca.transform(X_test)\n",
    "print \"done in %0.3fs\" % (time() - t0)"
   ]
  },
  {
   "cell_type": "markdown",
   "metadata": {},
   "source": [
    "# Train a SVM classification model"
   ]
  },
  {
   "cell_type": "code",
   "execution_count": 20,
   "metadata": {
    "collapsed": false
   },
   "outputs": [
    {
     "name": "stdout",
     "output_type": "stream",
     "text": [
      "Fitting the classifier to the training set\n",
      "done in 18.414s\n",
      "Best estimator found by grid search:\n",
      "SVC(C=1000.0, cache_size=200, class_weight='balanced', coef0=0.0,\n",
      "  decision_function_shape=None, degree=3, gamma=0.001, kernel='rbf',\n",
      "  max_iter=-1, probability=False, random_state=None, shrinking=True,\n",
      "  tol=0.001, verbose=False)\n"
     ]
    }
   ],
   "source": [
    "print \"Fitting the classifier to the training set\"\n",
    "t0 = time()\n",
    "param_grid = {\n",
    "         'C': [1e3, 5e3, 1e4, 5e4, 1e5],\n",
    "          'gamma': [0.0001, 0.0005, 0.001, 0.005, 0.01, 0.1],\n",
    "          }\n",
    "# for sklearn version 0.16 or prior, the class_weight parameter value is 'auto'\n",
    "## For the 'class_weight' parameter, the argument string \"auto\" is a valid value for sklearn version 0.16 and prior, but will be depreciated by 0.19. If you are running sklearn version 0.17 or later, the expected argument string should be \"balanced\"\n",
    "clf = GridSearchCV(SVC(kernel='rbf', class_weight='balanced'), param_grid)\n",
    "clf = clf.fit(X_train_pca, y_train)\n",
    "print \"done in %0.3fs\" % (time() - t0)\n",
    "print \"Best estimator found by grid search:\"\n",
    "print clf.best_estimator_"
   ]
  },
  {
   "cell_type": "markdown",
   "metadata": {},
   "source": [
    "# Quantitative evaluation of the model quality on the test set"
   ]
  },
  {
   "cell_type": "code",
   "execution_count": 21,
   "metadata": {
    "collapsed": false
   },
   "outputs": [
    {
     "name": "stdout",
     "output_type": "stream",
     "text": [
      "Predicting the people names on the testing set\n",
      "done in 0.067s\n"
     ]
    }
   ],
   "source": [
    "print \"Predicting the people names on the testing set\"\n",
    "t0 = time()\n",
    "y_pred = clf.predict(X_test_pca)\n",
    "print \"done in %0.3fs\" % (time() - t0)"
   ]
  },
  {
   "cell_type": "code",
   "execution_count": 22,
   "metadata": {
    "collapsed": false
   },
   "outputs": [
    {
     "name": "stdout",
     "output_type": "stream",
     "text": [
      "                   precision    recall  f1-score   support\n",
      "\n",
      "     Ariel Sharon       0.50      0.62      0.55        13\n",
      "     Colin Powell       0.76      0.88      0.82        60\n",
      "  Donald Rumsfeld       0.73      0.70      0.72        27\n",
      "    George W Bush       0.92      0.87      0.89       146\n",
      "Gerhard Schroeder       0.77      0.80      0.78        25\n",
      "      Hugo Chavez       0.75      0.60      0.67        15\n",
      "       Tony Blair       0.88      0.83      0.86        36\n",
      "\n",
      "      avg / total       0.83      0.83      0.83       322\n",
      "\n",
      "[[  8   0   3   2   0   0   0]\n",
      " [  2  53   1   3   0   1   0]\n",
      " [  4   1  19   2   0   0   1]\n",
      " [  1  11   2 127   3   1   1]\n",
      " [  0   2   0   1  20   1   1]\n",
      " [  0   2   0   1   2   9   1]\n",
      " [  1   1   1   2   1   0  30]]\n"
     ]
    }
   ],
   "source": [
    "print classification_report(y_test, y_pred, target_names=target_names)\n",
    "print confusion_matrix(y_test, y_pred, labels=range(n_classes))"
   ]
  },
  {
   "cell_type": "markdown",
   "metadata": {},
   "source": [
    "# Qualitative evaluation of the predictions using matplotlib"
   ]
  },
  {
   "cell_type": "code",
   "execution_count": 23,
   "metadata": {
    "collapsed": true
   },
   "outputs": [],
   "source": [
    "def plot_gallery(images, titles, h, w, n_row=3, n_col=4):\n",
    "    \"\"\"Helper function to plot a gallery of portraits\"\"\"\n",
    "    pl.figure(figsize=(1.8 * n_col, 2.4 * n_row))\n",
    "    pl.subplots_adjust(bottom=0, left=.01, right=.99, top=.90, hspace=.35)\n",
    "    for i in range(n_row * n_col):\n",
    "        pl.subplot(n_row, n_col, i + 1)\n",
    "        pl.imshow(images[i].reshape((h, w)), cmap=pl.cm.gray)\n",
    "        pl.title(titles[i], size=12)\n",
    "        pl.xticks(())\n",
    "        pl.yticks(())"
   ]
  },
  {
   "cell_type": "markdown",
   "metadata": {},
   "source": [
    "# plot the result of the prediction on a portion of the test set"
   ]
  },
  {
   "cell_type": "code",
   "execution_count": 24,
   "metadata": {
    "collapsed": true
   },
   "outputs": [],
   "source": [
    "def title(y_pred, y_test, target_names, i):\n",
    "    pred_name = target_names[y_pred[i]].rsplit(' ', 1)[-1]\n",
    "    true_name = target_names[y_test[i]].rsplit(' ', 1)[-1]\n",
    "    return 'predicted: %s\\ntrue:      %s' % (pred_name, true_name)"
   ]
  },
  {
   "cell_type": "code",
   "execution_count": 25,
   "metadata": {
    "collapsed": true
   },
   "outputs": [],
   "source": [
    "prediction_titles = [title(y_pred, y_test, target_names, i)\n",
    "                         for i in range(y_pred.shape[0])]"
   ]
  },
  {
   "cell_type": "code",
   "execution_count": 26,
   "metadata": {
    "collapsed": true
   },
   "outputs": [],
   "source": [
    "plot_gallery(X_test, prediction_titles, h, w)"
   ]
  },
  {
   "cell_type": "markdown",
   "metadata": {},
   "source": [
    "# plot the gallery of the most significative eigenfaces"
   ]
  },
  {
   "cell_type": "code",
   "execution_count": 27,
   "metadata": {
    "collapsed": true
   },
   "outputs": [],
   "source": [
    "eigenface_titles = [\"eigenface %d\" % i for i in range(eigenfaces.shape[0])]\n",
    "plot_gallery(eigenfaces, eigenface_titles, h, w)"
   ]
  },
  {
   "cell_type": "code",
   "execution_count": 28,
   "metadata": {
    "collapsed": true
   },
   "outputs": [],
   "source": [
    "pl.show()"
   ]
  },
  {
   "cell_type": "markdown",
   "metadata": {},
   "source": [
    "#  How much of the variance is explained by the first principal component? The second?"
   ]
  },
  {
   "cell_type": "code",
   "execution_count": 29,
   "metadata": {
    "collapsed": false
   },
   "outputs": [
    {
     "name": "stdout",
     "output_type": "stream",
     "text": [
      "[ 0.19346474  0.15116931  0.07083688  0.05952028  0.05157574  0.02887213\n",
      "  0.02514474  0.02176463  0.0201937   0.01902118  0.01682174  0.01580626\n",
      "  0.01223351  0.01087937  0.01064428  0.00979671  0.00892415  0.00854861\n",
      "  0.00835728  0.00722645  0.0069658   0.00653871  0.00639547  0.0056132\n",
      "  0.00531102  0.00520167  0.00507469  0.00484211  0.00443586  0.0041782\n",
      "  0.00393684  0.00381711  0.00356077  0.00351197  0.00334554  0.00329936\n",
      "  0.00314637  0.00296207  0.00290131  0.00284712  0.00279984  0.00267544\n",
      "  0.00259903  0.00258378  0.00240921  0.00238992  0.0023542   0.00222581\n",
      "  0.00217505  0.00216559  0.00209063  0.00205427  0.00200421  0.00197374\n",
      "  0.00193836  0.00188752  0.00180161  0.00178887  0.00174822  0.00173047\n",
      "  0.00165645  0.00162943  0.00157416  0.00153416  0.00149965  0.00147248\n",
      "  0.00143907  0.00141871  0.00139683  0.00138136  0.00133992  0.0013316\n",
      "  0.00128791  0.00125579  0.00124233  0.00121852  0.00120941  0.00118278\n",
      "  0.00115082  0.00113637  0.00112584  0.00111595  0.00109367  0.00107116\n",
      "  0.00105647  0.00104313  0.00102371  0.00101671  0.00099745  0.00096303\n",
      "  0.00094186  0.00091912  0.00091247  0.00089121  0.00087122  0.00086184\n",
      "  0.00084263  0.00083822  0.00082796  0.00080223  0.00078577  0.00078122\n",
      "  0.00075587  0.00075114  0.00074598  0.00073313  0.00072898  0.00071414\n",
      "  0.00070431  0.00069459  0.00066695  0.000662    0.00065307  0.00063473\n",
      "  0.00063451  0.00062274  0.00061385  0.00060799  0.00059879  0.00059017\n",
      "  0.00057828  0.00057157  0.00056324  0.00055927  0.00054464  0.0005364\n",
      "  0.00052823  0.00051678  0.00050816  0.00050589  0.00050298  0.000489\n",
      "  0.00048116  0.00047171  0.0004635   0.00045969  0.00045613  0.00044617\n",
      "  0.00044104  0.00043225  0.00042921  0.00042433  0.00041861  0.00041253\n",
      "  0.00040052  0.00039732  0.00039123  0.00038892  0.00037575  0.00037328]\n"
     ]
    }
   ],
   "source": [
    "print pca.explained_variance_ratio_ "
   ]
  },
  {
   "cell_type": "markdown",
   "metadata": {},
   "source": [
    "# As you add more principal components as features for training your classifier, do you expect it to get better or worse performance?"
   ]
  },
  {
   "cell_type": "code",
   "execution_count": 31,
   "metadata": {
    "collapsed": false
   },
   "outputs": [
    {
     "name": "stdout",
     "output_type": "stream",
     "text": [
      "                   precision    recall  f1-score   support\n",
      "\n",
      "     Ariel Sharon       0.14      0.23      0.17        13\n",
      "     Colin Powell       0.45      0.58      0.51        60\n",
      "  Donald Rumsfeld       0.19      0.26      0.22        27\n",
      "    George W Bush       0.69      0.54      0.61       146\n",
      "Gerhard Schroeder       0.12      0.12      0.12        25\n",
      "      Hugo Chavez       0.24      0.27      0.25        15\n",
      "       Tony Blair       0.45      0.36      0.40        36\n",
      "\n",
      "      avg / total       0.49      0.45      0.46       322\n",
      "\n",
      "                   precision    recall  f1-score   support\n",
      "\n",
      "     Ariel Sharon       0.56      0.38      0.45        13\n",
      "     Colin Powell       0.69      0.73      0.71        60\n",
      "  Donald Rumsfeld       0.45      0.56      0.50        27\n",
      "    George W Bush       0.73      0.75      0.74       146\n",
      "Gerhard Schroeder       0.60      0.36      0.45        25\n",
      "      Hugo Chavez       0.57      0.53      0.55        15\n",
      "       Tony Blair       0.59      0.61      0.60        36\n",
      "\n",
      "      avg / total       0.66      0.66      0.66       322\n",
      "\n",
      "                   precision    recall  f1-score   support\n",
      "\n",
      "     Ariel Sharon       0.60      0.69      0.64        13\n",
      "     Colin Powell       0.73      0.85      0.78        60\n",
      "  Donald Rumsfeld       0.47      0.56      0.51        27\n",
      "    George W Bush       0.86      0.82      0.84       146\n",
      "Gerhard Schroeder       0.57      0.52      0.54        25\n",
      "      Hugo Chavez       0.82      0.60      0.69        15\n",
      "       Tony Blair       0.70      0.64      0.67        36\n",
      "\n",
      "      avg / total       0.75      0.74      0.74       322\n",
      "\n",
      "                   precision    recall  f1-score   support\n",
      "\n",
      "     Ariel Sharon       0.69      0.69      0.69        13\n",
      "     Colin Powell       0.82      0.90      0.86        60\n",
      "  Donald Rumsfeld       0.71      0.56      0.63        27\n",
      "    George W Bush       0.84      0.90      0.87       146\n",
      "Gerhard Schroeder       0.68      0.68      0.68        25\n",
      "      Hugo Chavez       0.83      0.67      0.74        15\n",
      "       Tony Blair       0.85      0.64      0.73        36\n",
      "\n",
      "      avg / total       0.81      0.81      0.80       322\n",
      "\n",
      "                   precision    recall  f1-score   support\n",
      "\n",
      "     Ariel Sharon       0.75      0.69      0.72        13\n",
      "     Colin Powell       0.84      0.88      0.86        60\n",
      "  Donald Rumsfeld       0.82      0.67      0.73        27\n",
      "    George W Bush       0.88      0.97      0.92       146\n",
      "Gerhard Schroeder       0.87      0.80      0.83        25\n",
      "      Hugo Chavez       0.90      0.60      0.72        15\n",
      "       Tony Blair       0.84      0.75      0.79        36\n",
      "\n",
      "      avg / total       0.86      0.86      0.86       322\n",
      "\n",
      "                   precision    recall  f1-score   support\n",
      "\n",
      "     Ariel Sharon       0.44      0.54      0.48        13\n",
      "     Colin Powell       0.74      0.90      0.81        60\n",
      "  Donald Rumsfeld       0.70      0.70      0.70        27\n",
      "    George W Bush       0.93      0.87      0.90       146\n",
      "Gerhard Schroeder       0.79      0.76      0.78        25\n",
      "      Hugo Chavez       0.78      0.47      0.58        15\n",
      "       Tony Blair       0.78      0.81      0.79        36\n",
      "\n",
      "      avg / total       0.82      0.81      0.81       322\n",
      "\n"
     ]
    }
   ],
   "source": [
    "for i in [10, 15, 25, 50, 100, 250]:\n",
    "    n_components = i\n",
    "    pca = RandomizedPCA(n_components=n_components, whiten=True).fit(X_train)\n",
    "    eigenfaces = pca.components_.reshape((n_components, h, w))\n",
    "    X_train_pca = pca.transform(X_train)\n",
    "    X_test_pca = pca.transform(X_test)\n",
    "    clf = GridSearchCV(SVC(kernel='rbf', class_weight='balanced'), param_grid)\n",
    "    clf = clf.fit(X_train_pca, y_train)\n",
    "    clf = GridSearchCV(SVC(kernel='rbf', class_weight='balanced'), param_grid)\n",
    "    clf = clf.fit(X_train_pca, y_train)\n",
    "    y_pred = clf.predict(X_test_pca)\n",
    "    print classification_report(y_test, y_pred, target_names=target_names)"
   ]
  },
  {
   "cell_type": "markdown",
   "metadata": {},
   "source": [
    "## Remember:\n",
    "## we can use gridCV to tune parameters such as \n",
    "## C, kernel and gamma for VALIDATION\n",
    "## but not the\n",
    "## N-components for PCA"
   ]
  },
  {
   "cell_type": "markdown",
   "metadata": {},
   "source": [
    "param_grid = {\n",
    "         'C': [1e3, 5e3, 1e4, 5e4, 1e5],\n",
    "          'gamma': [0.0001, 0.0005, 0.001, 0.005, 0.01, 0.1],\n",
    "          }\n",
    " for sklearn version 0.16 or prior, the class_weight parameter value is 'auto'\n",
    " For the 'class_weight' parameter, the argument string \"auto\" is a valid value for sklearn version 0.16 and prior, but will be depreciated by 0.19. If you are running sklearn version 0.17 or later, the expected argument string should be \"balanced\"\n",
    "clf = GridSearchCV(SVC(kernel='rbf', class_weight='balanced'), param_grid)\n",
    "clf = clf.fit(X_train_pca, y_train)\n",
    "print \"done in %0.3fs\" % (time() - t0)\n",
    "print \"Best estimator found by grid search:\"\n",
    "print clf.best_estimator_"
   ]
  },
  {
   "cell_type": "markdown",
   "metadata": {},
   "source": [
    "#### More components mean higher score in F1, higher score means higher performance"
   ]
  },
  {
   "cell_type": "markdown",
   "metadata": {},
   "source": [
    "# Do you see any evidence of overfitting when using a large number of PCs?"
   ]
  },
  {
   "cell_type": "markdown",
   "metadata": {},
   "source": [
    "#### from 100 to 250, the f1-score decrease"
   ]
  },
  {
   "cell_type": "code",
   "execution_count": null,
   "metadata": {
    "collapsed": true
   },
   "outputs": [],
   "source": []
  }
 ],
 "metadata": {
  "kernelspec": {
   "display_name": "Python 2",
   "language": "python",
   "name": "python2"
  },
  "language_info": {
   "codemirror_mode": {
    "name": "ipython",
    "version": 2
   },
   "file_extension": ".py",
   "mimetype": "text/x-python",
   "name": "python",
   "nbconvert_exporter": "python",
   "pygments_lexer": "ipython2",
   "version": "2.7.11"
  }
 },
 "nbformat": 4,
 "nbformat_minor": 0
}
