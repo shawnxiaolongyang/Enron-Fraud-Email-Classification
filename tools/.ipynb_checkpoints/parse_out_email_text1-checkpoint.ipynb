{
 "cells": [
  {
   "cell_type": "code",
   "execution_count": 1,
   "metadata": {
    "collapsed": true
   },
   "outputs": [],
   "source": [
    "from nltk.stem.snowball import SnowballStemmer\n",
    "import string"
   ]
  },
  {
   "cell_type": "code",
   "execution_count": 3,
   "metadata": {
    "collapsed": false
   },
   "outputs": [
    {
     "name": "stdout",
     "output_type": "stream",
     "text": [
      "danish dutch english finnish french german hungarian italian norwegian porter portuguese romanian russian spanish swedish\n"
     ]
    }
   ],
   "source": [
    "print(\" \".join(SnowballStemmer.languages))"
   ]
  },
  {
   "cell_type": "code",
   "execution_count": 4,
   "metadata": {
    "collapsed": true
   },
   "outputs": [],
   "source": [
    "stemmer = SnowballStemmer(\"english\")"
   ]
  },
  {
   "cell_type": "code",
   "execution_count": 5,
   "metadata": {
    "collapsed": false
   },
   "outputs": [],
   "source": [
    "def parseOutText(f):\n",
    "    \"\"\" given an opened email file f, parse out all text below the\n",
    "        metadata block at the top\n",
    "        (in Part 2, you will also add stemming capabilities)\n",
    "        and return a string that contains all the words\n",
    "        in the email (space-separated) \n",
    "        \n",
    "        example use case:\n",
    "        f = open(\"email_file_name.txt\", \"r\")\n",
    "        text = parseOutText(f)\n",
    "        \n",
    "        \"\"\"\n",
    "\n",
    "    \n",
    "    f.seek(0)  ### go back to beginning of file (annoying)\n",
    "    all_text = f.read()\n",
    "\n",
    "    ### split off metadata\n",
    "    content = all_text.split(\"X-FileName:\")\n",
    "    words = \"\"\n",
    "    if len(content) > 1:\n",
    "        ### remove punctuation\n",
    "        text_string = content[1].translate(string.maketrans(\"\", \"\"), string.punctuation)\n",
    "\n",
    "        ### project part 2: comment out the line below\n",
    "        ### words = text_string\n",
    "        \n",
    "        \n",
    "        ### split the text string into individual words, stem each word,\n",
    "        ### and append the stemmed word to words (make sure there's a single\n",
    "        ### space between each stemmed word)\n",
    "        \n",
    "        for i in text_string.split():\n",
    "            \n",
    "            if i != '':\n",
    "                print '\\n' + i\n",
    "                words += stemmer.stem(i) +' '\n",
    "\n",
    "    return words"
   ]
  },
  {
   "cell_type": "code",
   "execution_count": 48,
   "metadata": {
    "collapsed": false
   },
   "outputs": [
    {
     "name": "stdout",
     "output_type": "stream",
     "text": [
      "\n",
      "\n",
      "\n",
      "Hi\n",
      "\n",
      "Everyone\n",
      "\n",
      "If\n",
      "\n",
      "you\n",
      "\n",
      "can\n",
      "\n",
      "read\n",
      "\n",
      "this\n",
      "\n",
      "message\n",
      "\n",
      "youre\n",
      "\n",
      "properly\n",
      "\n",
      "using\n",
      "\n",
      "parseOutText\n",
      "\n",
      "Please\n",
      "\n",
      "proceed\n",
      "\n",
      "to\n",
      "\n",
      "the\n",
      "\n",
      "next\n",
      "\n",
      "part\n",
      "\n",
      "of\n",
      "\n",
      "the\n",
      "\n",
      "project\n",
      "\n",
      "\n",
      "\n",
      "hi everyon if you can read this messag your proper use parseouttext pleas proceed to the next part of the project\n",
      " \n"
     ]
    }
   ],
   "source": [
    "ff = open(\"../text_learning/test_email.txt\", \"r\")\n",
    "text = parseOutText(ff)\n",
    "print text"
   ]
  }
 ],
 "metadata": {
  "kernelspec": {
   "display_name": "Python 2",
   "language": "python",
   "name": "python2"
  },
  "language_info": {
   "codemirror_mode": {
    "name": "ipython",
    "version": 2
   },
   "file_extension": ".py",
   "mimetype": "text/x-python",
   "name": "python",
   "nbconvert_exporter": "python",
   "pygments_lexer": "ipython2",
   "version": "2.7.11"
  }
 },
 "nbformat": 4,
 "nbformat_minor": 0
}
